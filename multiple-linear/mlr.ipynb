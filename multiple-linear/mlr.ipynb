{
 "cells": [
  {
   "cell_type": "code",
   "execution_count": 6,
   "metadata": {},
   "outputs": [
    {
     "data": {
      "text/plain": [
       "(169.944,\n",
       " 106.0,\n",
       " 3.748,\n",
       " 84972,\n",
       " 53000,\n",
       " 1874,\n",
       " 14574288,\n",
       " 6141268,\n",
       " 313800,\n",
       " 216261,\n",
       " 9007150)"
      ]
     },
     "execution_count": 6,
     "metadata": {},
     "output_type": "execute_result"
    }
   ],
   "source": [
    "import pandas as pd\n",
    "\n",
    "# Load the dataset\n",
    "file_path = file_path = r'C:\\Users\\Ye Myat Moe\\Documents\\sp\\intelligent_system\\multiple-linear\\500_Person_Gender_Height_Weight_Index.csv'  \n",
    "df = pd.read_csv(file_path)\n",
    "\n",
    "# Assuming X1 is Height, X2 is Weight, and y is Index\n",
    "x1 = df['Height']\n",
    "x2 = df['Weight']\n",
    "y = df['Index']\n",
    "\n",
    "# Mean of X1, X2, y\n",
    "mean_x1 = x1.mean()\n",
    "mean_x2 = x2.mean()\n",
    "mean_y = y.mean()\n",
    "\n",
    "# Sum of X1, X2, y\n",
    "sum_x1 = x1.sum()\n",
    "sum_x2 = x2.sum()\n",
    "sum_y = y.sum()\n",
    "\n",
    "# Sum of X1², X2², X1y, X2y, and X1X2\n",
    "sum_x1_squared = (x1**2).sum()\n",
    "sum_x2_squared = (x2**2).sum()\n",
    "sum_x1y = (x1 * y).sum()\n",
    "sum_x2y = (x2 * y).sum()\n",
    "sum_x1x2 = (x1 * x2).sum()\n",
    "\n",
    "(mean_x1, mean_x2, mean_y, sum_x1, sum_x2, sum_y, sum_x1_squared, sum_x2_squared, sum_x1y, sum_x2y, sum_x1x2)\n"
   ]
  },
  {
   "cell_type": "code",
   "execution_count": 7,
   "metadata": {},
   "outputs": [
    {
     "data": {
      "text/plain": [
       "(133806.43200000003, 523268.0, -4675.055999999982, 17617.0, 118.0)"
      ]
     },
     "execution_count": 7,
     "metadata": {},
     "output_type": "execute_result"
    }
   ],
   "source": [
    "# Number of observations\n",
    "n = len(x1)\n",
    "\n",
    "# Calculating Sums for Regression\n",
    "Sxx1 = sum_x1_squared - (sum_x1**2 / n)\n",
    "Sxx2 = sum_x2_squared - (sum_x2**2 / n)\n",
    "Sxy1 = sum_x1y - (sum_x1 * sum_y / n)\n",
    "Sxy2 = sum_x2y - (sum_x2 * sum_y / n)\n",
    "Sx1x2 = sum_x1x2 - (sum_x1 * sum_x2 / n)\n",
    "\n",
    "(Sxx1, Sxx2, Sxy1, Sxy2, Sx1x2)\n"
   ]
  },
  {
   "cell_type": "code",
   "execution_count": 8,
   "metadata": {},
   "outputs": [
    {
     "data": {
      "text/plain": [
       "(6.1211459901089995, -0.03496864535800987, 0.03367514600577953)"
      ]
     },
     "execution_count": 8,
     "metadata": {},
     "output_type": "execute_result"
    }
   ],
   "source": [
    "# Calculate b1, b2\n",
    "b1 = (Sxy1 * Sxx2 - Sxy2 * Sx1x2) / (Sxx1 * Sxx2 - Sx1x2**2)\n",
    "b2 = (Sxy2 * Sxx1 - Sxy1 * Sx1x2) / (Sxx1 * Sxx2 - Sx1x2**2)\n",
    "\n",
    "# Calculate b0\n",
    "b0 = mean_y - b1 * mean_x1 - b2 * mean_x2\n",
    "\n",
    "(b0, b1, b2)"
   ]
  },
  {
   "cell_type": "code",
   "execution_count": 14,
   "metadata": {},
   "outputs": [
    {
     "data": {
      "text/plain": [
       "'y = 6.1211 + -0.0350*X1 + 0.0337*X2'"
      ]
     },
     "execution_count": 14,
     "metadata": {},
     "output_type": "execute_result"
    }
   ],
   "source": [
    "# Estimated Linear Regression Equation\n",
    "f\"y = {b0:.4f} + {b1:.4f}*X1 + {b2:.4f}*X2\""
   ]
  },
  {
   "cell_type": "code",
   "execution_count": 15,
   "metadata": {},
   "outputs": [
    {
     "data": {
      "text/plain": [
       "2.4418097199479534"
      ]
     },
     "execution_count": 15,
     "metadata": {},
     "output_type": "execute_result"
    }
   ],
   "source": [
    "# Given values for X1 and X2\n",
    "X1 = int(input(\"Enter the value for (height) X1: \"))\n",
    "X2 = int(input(\"Enter the value for (weight) X2: \"))\n",
    "\n",
    "# Calculate the predicted value of y using the regression equation\n",
    "predicted_y = b0 + b1 * X1 + b2 * X2\n",
    "predicted_y"
   ]
  }
 ],
 "metadata": {
  "kernelspec": {
   "display_name": "Python 3",
   "language": "python",
   "name": "python3"
  },
  "language_info": {
   "codemirror_mode": {
    "name": "ipython",
    "version": 3
   },
   "file_extension": ".py",
   "mimetype": "text/x-python",
   "name": "python",
   "nbconvert_exporter": "python",
   "pygments_lexer": "ipython3",
   "version": "3.12.2"
  }
 },
 "nbformat": 4,
 "nbformat_minor": 2
}
