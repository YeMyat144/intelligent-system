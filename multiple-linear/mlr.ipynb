{
 "cells": [
  {
   "cell_type": "code",
   "execution_count": 17,
   "metadata": {},
   "outputs": [
    {
     "name": "stdout",
     "output_type": "stream",
     "text": [
      "Mean of X1 (Height): 169.944\n",
      "Mean of X2 (Weight): 106.0\n",
      "Mean of y (Index): 3.748\n",
      "Sum of X1 (Height): 84972\n",
      "Sum of X2 (Weight): 53000\n",
      "Sum of y (Index): 1874\n",
      "Sum of X1² (Height²): 14574288\n",
      "Sum of X2² (Weight²): 6141268\n",
      "Sum of X1y (Height * Index): 313800\n",
      "Sum of X2y (Weight * Index): 216261\n",
      "Sum of X1X2 (Height * Weight): 9007150\n"
     ]
    }
   ],
   "source": [
    "import pandas as pd\n",
    "\n",
    "# Load the dataset\n",
    "file_path = file_path = r'C:\\Users\\Ye Myat Moe\\Documents\\sp\\intelligent_system\\multiple-linear\\500_Person_Gender_Height_Weight_Index.csv'  \n",
    "df = pd.read_csv(file_path)\n",
    "\n",
    "# Assuming X1 is Height, X2 is Weight, and y is Index\n",
    "x1 = df['Height']\n",
    "x2 = df['Weight']\n",
    "y = df['Index']\n",
    "\n",
    "# Mean of X1, X2, y\n",
    "mean_x1 = x1.mean()\n",
    "mean_x2 = x2.mean()\n",
    "mean_y = y.mean()\n",
    "\n",
    "# Sum of X1, X2, y\n",
    "sum_x1 = x1.sum()\n",
    "sum_x2 = x2.sum()\n",
    "sum_y = y.sum()\n",
    "\n",
    "# Sum of X1², X2², X1y, X2y, and X1X2\n",
    "sum_x1_squared = (x1**2).sum()\n",
    "sum_x2_squared = (x2**2).sum()\n",
    "sum_x1y = (x1 * y).sum()\n",
    "sum_x2y = (x2 * y).sum()\n",
    "sum_x1x2 = (x1 * x2).sum()\n",
    "\n",
    "print(f\"Mean of X1 (Height): {mean_x1}\")\n",
    "print(f\"Mean of X2 (Weight): {mean_x2}\")\n",
    "print(f\"Mean of y (Index): {mean_y}\")\n",
    "\n",
    "print(f\"Sum of X1 (Height): {sum_x1}\")\n",
    "print(f\"Sum of X2 (Weight): {sum_x2}\")\n",
    "print(f\"Sum of y (Index): {sum_y}\")\n",
    "\n",
    "print(f\"Sum of X1² (Height²): {sum_x1_squared}\")\n",
    "print(f\"Sum of X2² (Weight²): {sum_x2_squared}\")\n",
    "print(f\"Sum of X1y (Height * Index): {sum_x1y}\")\n",
    "print(f\"Sum of X2y (Weight * Index): {sum_x2y}\")\n",
    "print(f\"Sum of X1X2 (Height * Weight): {sum_x1x2}\")"
   ]
  },
  {
   "cell_type": "markdown",
   "metadata": {},
   "source": []
  },
  {
   "cell_type": "code",
   "execution_count": 22,
   "metadata": {},
   "outputs": [
    {
     "name": "stdout",
     "output_type": "stream",
     "text": [
      "Sum of Squares for X1: 133806.43200000003\n",
      "Sum of Squares for X2: 523268.0\n",
      "Sum of Cross Products X1 and y: -4675.055999999982\n",
      "Sum of Cross Products X2 and y: 17617.0\n",
      "Sum of Cross Products X1 and X2: 118.0\n"
     ]
    }
   ],
   "source": [
    "# Number of observations\n",
    "n = len(x1)\n",
    "\n",
    "# Calculating Sums for Regression\n",
    "Sxx1 = sum_x1_squared - (sum_x1**2 / n)\n",
    "Sxx2 = sum_x2_squared - (sum_x2**2 / n)\n",
    "Sxy1 = sum_x1y - (sum_x1 * sum_y / n)\n",
    "Sxy2 = sum_x2y - (sum_x2 * sum_y / n)\n",
    "Sx1x2 = sum_x1x2 - (sum_x1 * sum_x2 / n)\n",
    "\n",
    "print(f\"Sum of Squares for X1: {Sxx1}\")\n",
    "print(f\"Sum of Squares for X2: {Sxx2}\")\n",
    "print(f\"Sum of Cross Products X1 and y: {Sxy1}\")\n",
    "print(f\"Sum of Cross Products X2 and y: {Sxy2}\")\n",
    "print(f\"Sum of Cross Products X1 and X2: {Sx1x2}\")\n"
   ]
  },
  {
   "cell_type": "code",
   "execution_count": 19,
   "metadata": {},
   "outputs": [
    {
     "name": "stdout",
     "output_type": "stream",
     "text": [
      "b0: 6.1211459901089995\n",
      "b1: -0.03496864535800987\n",
      "b2: 0.03367514600577953\n"
     ]
    }
   ],
   "source": [
    "# Calculate b1, b2\n",
    "b1 = (Sxy1 * Sxx2 - Sxy2 * Sx1x2) / (Sxx1 * Sxx2 - Sx1x2**2)\n",
    "b2 = (Sxy2 * Sxx1 - Sxy1 * Sx1x2) / (Sxx1 * Sxx2 - Sx1x2**2)\n",
    "\n",
    "# Calculate b0\n",
    "b0 = mean_y - b1 * mean_x1 - b2 * mean_x2\n",
    "\n",
    "print(f\"b0: {b0}\")\n",
    "print(f\"b1: {b1}\")\n",
    "print(f\"b2: {b2}\")"
   ]
  },
  {
   "cell_type": "code",
   "execution_count": 20,
   "metadata": {},
   "outputs": [
    {
     "data": {
      "text/plain": [
       "'y = 6.1211 + -0.0350*X1 + 0.0337*X2'"
      ]
     },
     "execution_count": 20,
     "metadata": {},
     "output_type": "execute_result"
    }
   ],
   "source": [
    "# Estimated Linear Regression Equation\n",
    "f\"y = {b0:.4f} + {b1:.4f}*X1 + {b2:.4f}*X2\""
   ]
  },
  {
   "cell_type": "code",
   "execution_count": 21,
   "metadata": {},
   "outputs": [
    {
     "name": "stdout",
     "output_type": "stream",
     "text": [
      "Height157 and Weight70\n",
      "Predicted value of y: 2.988328889306017\n"
     ]
    }
   ],
   "source": [
    "# Given values for X1 and X2\n",
    "X1 = int(input(\"Enter the value for (height) X1: \"))\n",
    "X2 = int(input(\"Enter the value for (weight) X2: \"))\n",
    "\n",
    "# Calculate the predicted value of y using the regression equation\n",
    "predicted_y = b0 + b1 * X1 + b2 * X2\n",
    "print(f\"Height: {X1} and Weight: {X2}\")\n",
    "print(f\"Predicted value of y: {predicted_y}\")"
   ]
  }
 ],
 "metadata": {
  "kernelspec": {
   "display_name": "Python 3",
   "language": "python",
   "name": "python3"
  },
  "language_info": {
   "codemirror_mode": {
    "name": "ipython",
    "version": 3
   },
   "file_extension": ".py",
   "mimetype": "text/x-python",
   "name": "python",
   "nbconvert_exporter": "python",
   "pygments_lexer": "ipython3",
   "version": "3.12.2"
  }
 },
 "nbformat": 4,
 "nbformat_minor": 2
}
